{
  "nbformat": 4,
  "nbformat_minor": 0,
  "metadata": {
    "colab": {
      "name": "Untitled62.ipynb",
      "provenance": []
    },
    "kernelspec": {
      "name": "python3",
      "display_name": "Python 3"
    },
    "language_info": {
      "name": "python"
    }
  },
  "cells": [
    {
      "cell_type": "code",
      "execution_count": null,
      "metadata": {
        "colab": {
          "base_uri": "https://localhost:8080/"
        },
        "id": "P-7FlX0pMIrL",
        "outputId": "cc67c3b5-cbf3-46fc-e2fa-d15d3fb7434c"
      },
      "outputs": [
        {
          "output_type": "stream",
          "name": "stdout",
          "text": [
            "Requirement already satisfied: requests in /usr/local/lib/python3.7/dist-packages (2.23.0)\n",
            "Requirement already satisfied: urllib3!=1.25.0,!=1.25.1,<1.26,>=1.21.1 in /usr/local/lib/python3.7/dist-packages (from requests) (1.24.3)\n",
            "Requirement already satisfied: idna<3,>=2.5 in /usr/local/lib/python3.7/dist-packages (from requests) (2.10)\n",
            "Requirement already satisfied: chardet<4,>=3.0.2 in /usr/local/lib/python3.7/dist-packages (from requests) (3.0.4)\n",
            "Requirement already satisfied: certifi>=2017.4.17 in /usr/local/lib/python3.7/dist-packages (from requests) (2021.10.8)\n",
            "Requirement already satisfied: html5lib in /usr/local/lib/python3.7/dist-packages (1.0.1)\n",
            "Requirement already satisfied: webencodings in /usr/local/lib/python3.7/dist-packages (from html5lib) (0.5.1)\n",
            "Requirement already satisfied: six>=1.9 in /usr/local/lib/python3.7/dist-packages (from html5lib) (1.15.0)\n",
            "Requirement already satisfied: bs4 in /usr/local/lib/python3.7/dist-packages (0.0.1)\n",
            "Requirement already satisfied: beautifulsoup4 in /usr/local/lib/python3.7/dist-packages (from bs4) (4.6.3)\n"
          ]
        }
      ],
      "source": [
        "!pip install requests\n",
        "!pip install html5lib\n",
        "!pip install bs4"
      ]
    },
    {
      "cell_type": "code",
      "source": [
        "import requests\n",
        "import numpy as np\n",
        "import pandas as pd\n",
        "from bs4 import BeautifulSoup\n",
        "import re"
      ],
      "metadata": {
        "id": "oLvbvNbvMeOb"
      },
      "execution_count": null,
      "outputs": []
    },
    {
      "cell_type": "code",
      "source": [
        "#cleaning the data now ..\n",
        "\n",
        "REPLACE_x = re.compile(r'\\\\x97')\n",
        "REPLACE_HTML_TAGS = re.compile(r'<[^>]+>')\n",
        "REPLACE_NEW_LINE=re.compile(r'\\n+')\n",
        "REPLACE_DIGITS = re.compile(r'\\d+')\n",
        "REPLACE_BY = re.compile(r\"[^a-z0-9\\-]\")\n",
        "REPLACE_BAD_SYMBOLS=re.compile(r'[^0-9a-z #+_\\r\\n\\\\t]')\n",
        "\n",
        "#tokens_re = re.compile(r'('+'|'.join(regex)+')', re.VERBOSE | re.IGNORECASE)\n",
        "\n",
        "# sentences = [] #for Word2Vec model\n",
        "def clean_text(text):\n",
        "    text = REPLACE_HTML_TAGS.sub(' ', text)\n",
        "    text = REPLACE_x.sub(' ', text)\n",
        "    text = text.replace('\\n', ' ')\n",
        "    text= REPLACE_NEW_LINE.sub(' ',text)\n",
        "    text = text.replace(\" \\\\n  \\\\n  \\\\n  \\\\n  \\\\n  \\\\n  \\\\n  \\\\n  \\\\n  \\\\n  \\\\n  \\\\n  \\\\n  \\\\n  \\\\n  \\\\n  \\\\n  \\\\n  \\\\n  \\\\n  \\\\n  \\\\n  \\\\n  \\\\n \",'.')\n",
        "    text = text.replace(\"\\\\xa0\",' ')\n",
        "    return text"
      ],
      "metadata": {
        "id": "OVkBx8TnO1JJ"
      },
      "execution_count": null,
      "outputs": []
    },
    {
      "cell_type": "code",
      "source": [
        "    url = 'http://www.nytimes.com/2009/12/21/us/21storm.html'\n",
        "    res = requests.get(url,headers = {\n",
        "    'User-Agent': 'Mozilla/5.0 (Macintosh; Intel Mac OS X 10.12; rv:55.0) Gecko/20100101 Firefox/55.0',\n",
        "    })\n",
        "    html_page = res.content\n",
        "    soup = BeautifulSoup(html_page, 'html.parser')\n",
        "    whitelist = [\n",
        "   'p','li','title','td','th'\n",
        "    ]\n",
        "    \n",
        "    article_new=str([t for t in soup.find_all(text=True) if t.parent.name  in whitelist])\n",
        "    article_new=clean_text(article_new)\n",
        "    ''.join(article_new)"
      ],
      "metadata": {
        "colab": {
          "base_uri": "https://localhost:8080/",
          "height": 591
        },
        "id": "VsDvxUddOKOQ",
        "outputId": "acdefff2-ae08-4fd5-d33d-d8a4f2f9007e"
      },
      "execution_count": null,
      "outputs": [
        {
          "output_type": "execute_result",
          "data": {
            "text/plain": [
              "\"['Storm Finally Exits a Snow-Covered East Coast - The New York Times', 'Advertisement', 'Supported by', 'As a subscriber, you have ', ' to give each month. Anyone can read what you share.', 'A high-octane snowstorm that played havoc with travel across the East Coast, from commuter trains to jumbo jets, vanished out to sea Sunday afternoon, leaving millions of people with the stunned feeling they had been hit by an avalanche.', 'By Sunday morning, the storm had dropped two feet of snow in parts of Long Island, crippling highways and commuter trains and marooning 150 early morning riders near Farmingdale, N.Y., for more five hours while drifts piled up around them. More than 800 flights at the three major New York City Airports were canceled even after the runways and taxiways were plowed.', 'The southern suburbs of Boston were also hard hit with some spots, accumulating 20 inches of snow before the storm headed off the coast of Cape Cod.', ' Washington, which seldom gets much snow, broke its December record, with 16 inches at Reagan National Airport. And Philadelphia had its second largest snowfall, 23.2 inches, since it began keeping records in 1884.', '“It stacks up as a memorable snowstorm,” said Fred Gadomski, a meteorologist at Penn State University, citing places like Long Island that will not soon forget the mayhem it caused. ', 'Airports were slowly struggling back to a semblance of normalcy. By Sunday morning, Dulles International outside Washington was handling arriving flights while still plowing away a thick blanket of snow, and Baltimore-Washington International Airport was trying to restore full operations. ', 'Yet in New York and Boston, far more accumstomed to such weather and given plenty of advanced notice, the storm was not as bad as feared. In fact, a little more than 10 inches fell in Central Park   an ordinary winter’s wallop.', 'The storm also dampened merchants’ hopes for a robust weekend before Christmas. Malls in New Jersey, for example, were less teeming than usual on such a weekend. But Mayor Michael R. Bloomberg said that New York retailers might have been spared because the snow did not fall heavily until Saturday night.', 'The storm hit two days before the start of winter, the shortest day of the year. Mr. Gadomski said that an unusual amount of arctic air in the Central United States and Canada was greeted by a moisture laden storm that came up from Florida and the encounter produced a powerful cocktail of wind and snow, particularly on its southern edge.', ' Hundreds of thousands of people lost power as the storm swept eastward on Friday and Saturday, including 135,000 customers in West Virginia served by Appalachian Power, a division of American Electric Power. That company also reported 19,456 outages in Tennessee on Saturday afternoon, and its Kentucky division reported 69,400 in that state. Laura Southard, of Virginia’s Department of Emergency Management, said at least 71,000 were without power on Saturday afternoon. In parts of western North Carolina, where the storm struck Friday evening, more than 60,000 customers were without power on Saturday.', 'Transportation was disrupted all along the coast, causing thousands of flights to be canceled across the country, knocking out power lines and stranding motorists during the peak of the holiday shopping and travel season. Greyhound canceled service on 294 routes through Maryland, Virginia, West Virginia and Washington, D.C., and discontinued service in and out of New York City around 8 p.m. Saturday, said Maureen Richmond, a spokeswoman.', 'Amtrak reported Sunday that some regularly scheduled trains were still canceled.', 'The mayor of Washington, Adrian M. Fenty, declared a snow emergency, following the state of emergency that Gov. Tim Kaine of Virginia declared on Friday in advance of the storm. By Saturday afternoon, Gov. Martin O’Malley of Maryland, Gov. Steve Beshear of Kentucky, Gov. Joe Manchin of West Virginia and Mayor Michael A. Nutter of Philadelphia had also declared emergencies.', 'The deaths of at least five people   three in Virginia and two in Ohio in traffic accidents or through exposure   were blamed on the storm, according to a count kept by Associated Press. ', 'In New York City, Mr. Bloomberg said in a morning news conference that no one was injured as a result of the storm. The city provided free sleds and hot chocolate at selected sledding hills to those who wanted to capitalize on what for many had been a sobering experience.', 'For instance, because Long Island was closer to the supply of moisture, Mr. Gadomski said, it was struck by a far heavier snowfall.', 'At least one branch of the Long Island Rail Road was shut down for much of Sunday, and others were hit with “extremely limited” service. Possibly the worst of the delays jangled nerves for 150 pre-dawn commuters on the 2:53 a.m. train from Penn Station. It was due in to Ronkonkoma at 4:14 a.m. but was stranded for several hours   the Associated Press said more than five   by a combination of snow drifts, ice and failures of equipment. It had to be towed to a nearby station.', 'Advertisement']\""
            ],
            "application/vnd.google.colaboratory.intrinsic+json": {
              "type": "string"
            }
          },
          "metadata": {},
          "execution_count": 41
        }
      ]
    },
    {
      "cell_type": "code",
      "source": [
        ""
      ],
      "metadata": {
        "id": "CQuadumKOf5Z"
      },
      "execution_count": null,
      "outputs": []
    }
  ]
}